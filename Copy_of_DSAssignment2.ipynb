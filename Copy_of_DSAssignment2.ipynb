{
  "nbformat": 4,
  "nbformat_minor": 0,
  "metadata": {
    "colab": {
      "name": "Copy of DSAssignment2.ipynb",
      "provenance": [],
      "collapsed_sections": [],
      "include_colab_link": true
    },
    "kernelspec": {
      "name": "python3",
      "display_name": "Python 3"
    }
  },
  "cells": [
    {
      "cell_type": "markdown",
      "metadata": {
        "id": "view-in-github",
        "colab_type": "text"
      },
      "source": [
        "<a href=\"https://colab.research.google.com/github/Tarunagg1/Letsupgrade_DataScience/blob/main/Copy_of_DSAssignment2.ipynb\" target=\"_parent\"><img src=\"https://colab.research.google.com/assets/colab-badge.svg\" alt=\"Open In Colab\"/></a>"
      ]
    },
    {
      "cell_type": "code",
      "metadata": {
        "id": "TMWsONqt7P7Y",
        "outputId": "152287bb-cf10-42a5-f294-a7fd46f5cafc",
        "colab": {
          "base_uri": "https://localhost:8080/"
        }
      },
      "source": [
        "#Question 1\n",
        "\n",
        "a = []\n",
        "for s in range(1,11):\n",
        "  s = int(input()) \n",
        "  if s%2==0:\n",
        "    a.append(s)\n",
        "print(a)"
      ],
      "execution_count": null,
      "outputs": [
        {
          "output_type": "stream",
          "text": [
            "1\n",
            "2\n",
            "3\n",
            "4\n",
            "5\n",
            "6\n",
            "7\n",
            "8\n",
            "9\n",
            "10\n",
            "[2, 4, 6, 8, 10]\n"
          ],
          "name": "stdout"
        }
      ]
    },
    {
      "cell_type": "code",
      "metadata": {
        "id": "ngYKoHax8N_g",
        "outputId": "479fddce-9d8d-4f61-e29d-87ac97a65158",
        "colab": {
          "base_uri": "https://localhost:8080/"
        }
      },
      "source": [
        "#Question 2\n",
        "\n",
        "h_notebook = [ letter for letter in 'notebook' ]\n",
        "print( h_notebook)"
      ],
      "execution_count": null,
      "outputs": [
        {
          "output_type": "stream",
          "text": [
            "['n', 'o', 't', 'e', 'b', 'o', 'o', 'k']\n"
          ],
          "name": "stdout"
        }
      ]
    },
    {
      "cell_type": "code",
      "metadata": {
        "id": "VvLCW90Z-QUk",
        "outputId": "f360949e-4717-4ecc-e9ef-550abde33806",
        "colab": {
          "base_uri": "https://localhost:8080/"
        }
      },
      "source": [
        "#Question 3\n",
        "\n",
        "dict1 ={}\n",
        "n = int(input(\"input:\\n\"))\n",
        "for i in range(1,n+1):\n",
        "  dict1[i]=i*i\n",
        "print(\"Output:\\n\",dict1)"
      ],
      "execution_count": null,
      "outputs": [
        {
          "output_type": "stream",
          "text": [
            "input:\n",
            "10\n",
            "Output:\n",
            " {1: 1, 2: 4, 3: 9, 4: 16, 5: 25, 6: 36, 7: 49, 8: 64, 9: 81, 10: 100}\n"
          ],
          "name": "stdout"
        }
      ]
    },
    {
      "cell_type": "code",
      "metadata": {
        "id": "Wa_2WwgYr5h0",
        "outputId": "c079e99d-ba1b-4ccd-b612-c5042e68d3be",
        "colab": {
          "base_uri": "https://localhost:8080/"
        }
      },
      "source": [
        "#Question 4\n",
        "\n",
        "pos = {\n",
        "    \"x\": 0, \n",
        "    \"y\": 0\n",
        "}\n",
        "z=int(input())\n",
        "c=0\n",
        "while (c!=z):\n",
        "\n",
        "    n = input()\n",
        "    c=c+1\n",
        "    if not n:\n",
        "        break\n",
        "\n",
        "    direction,steps=n.split()\n",
        "    if direction == \"UP\":\n",
        "        pos[\"y\"] += int(steps)\n",
        "    elif direction == \"DOWN\":\n",
        "        pos[\"y\"] -= int(steps)\n",
        "    elif direction == \"LEFT\":\n",
        "        pos[\"x\"] -= int(steps)\n",
        "    elif direction == \"RIGHT\":\n",
        "        pos[\"x\"] += int(steps)\n",
        "print (\"Output:\\n\",int(round((pos[\"x\"]**2 + pos[\"y\"]**2)**0.5)))"
      ],
      "execution_count": null,
      "outputs": [
        {
          "output_type": "stream",
          "text": [
            "4\n",
            "UP 5\n",
            "DOWN 3\n",
            "LEFT 3\n",
            "RIGHT 2\n",
            "Output:\n",
            " 2\n"
          ],
          "name": "stdout"
        }
      ]
    }
  ]
}