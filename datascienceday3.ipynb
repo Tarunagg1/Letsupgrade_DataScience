{
  "nbformat": 4,
  "nbformat_minor": 0,
  "metadata": {
    "colab": {
      "name": "datascienceday3.ipynb",
      "provenance": [],
      "collapsed_sections": [],
      "authorship_tag": "ABX9TyPOfAAUWjswgigMf+xHGgPY",
      "include_colab_link": true
    },
    "kernelspec": {
      "name": "python3",
      "display_name": "Python 3"
    }
  },
  "cells": [
    {
      "cell_type": "markdown",
      "metadata": {
        "id": "view-in-github",
        "colab_type": "text"
      },
      "source": [
        "<a href=\"https://colab.research.google.com/github/Tarunagg1/Letsupgrade_DataScience/blob/main/datascienceday3.ipynb\" target=\"_parent\"><img src=\"https://colab.research.google.com/assets/colab-badge.svg\" alt=\"Open In Colab\"/></a>"
      ]
    },
    {
      "cell_type": "code",
      "metadata": {
        "id": "1H88ZI58J-mN"
      },
      "source": [
        "import numpy as np"
      ],
      "execution_count": 1,
      "outputs": []
    },
    {
      "cell_type": "code",
      "metadata": {
        "id": "8yxDdJaNLMYw",
        "outputId": "52f5560d-7bab-4eb4-accb-eeb66714339a",
        "colab": {
          "base_uri": "https://localhost:8080/"
        }
      },
      "source": [
        "# question 1\n",
        "arr = np.arange(2,50,3)\n",
        "arr"
      ],
      "execution_count": 7,
      "outputs": [
        {
          "output_type": "execute_result",
          "data": {
            "text/plain": [
              "array([ 2,  5,  8, 11, 14, 17, 20, 23, 26, 29, 32, 35, 38, 41, 44, 47])"
            ]
          },
          "metadata": {
            "tags": []
          },
          "execution_count": 7
        }
      ]
    },
    {
      "cell_type": "code",
      "metadata": {
        "id": "gncSdjEXLTZ0",
        "outputId": "1995e689-a576-4ab9-9530-b260340df131",
        "colab": {
          "base_uri": "https://localhost:8080/"
        }
      },
      "source": [
        "# question 2\n",
        "list1 = []\n",
        "list2 = []\n",
        "\n",
        "for i in range(0,5):\n",
        "  list1.append(int(input(\"enter the number: \")))\n",
        "  \n",
        "for i in range(0,5):\n",
        "  list2.append(int(input(\"enter the number: \")))\n",
        "\n",
        "arr = np.array([list1,list2])\n",
        "print(arr)\n",
        "print(\"After sorting\")\n",
        "print(np.sort(arr))\n"
      ],
      "execution_count": 18,
      "outputs": [
        {
          "output_type": "stream",
          "text": [
            "enter the number: 82\n",
            "enter the number: 49\n",
            "enter the number: 18\n",
            "enter the number: 48\n",
            "enter the number: 18\n",
            "enter the number: 4\n",
            "enter the number: 81\n",
            "enter the number: 48\n",
            "enter the number: 58\n",
            "enter the number: 84\n",
            "[[82 49 18 48 18]\n",
            " [ 4 81 48 58 84]]\n",
            "After sorting\n",
            "[[18 18 48 49 82]\n",
            " [ 4 48 58 81 84]]\n"
          ],
          "name": "stdout"
        }
      ]
    },
    {
      "cell_type": "code",
      "metadata": {
        "id": "OScj430_NDxV",
        "outputId": "060afa50-5629-443c-8bc3-92f2ccc02384",
        "colab": {
          "base_uri": "https://localhost:8080/"
        }
      },
      "source": [
        "# question 3\n",
        "arr = np.array([[1, 2, 3, 4], [5, 6, 7, 8]])\n",
        "print(\"Dimension of array\")\n",
        "print(arr.shape)\n",
        "print(\"size of array\")\n",
        "print(arr.size)\n"
      ],
      "execution_count": 20,
      "outputs": [
        {
          "output_type": "stream",
          "text": [
            "Dimension of array\n",
            "(2, 4)\n",
            "size of array\n",
            "8\n"
          ],
          "name": "stdout"
        }
      ]
    },
    {
      "cell_type": "code",
      "metadata": {
        "id": "yvtIOlAXVMi1",
        "outputId": "14dffc76-f1d6-409f-9ec9-806c1bcf0571",
        "colab": {
          "base_uri": "https://localhost:8080/"
        }
      },
      "source": [
        "# question 4\n",
        "arr = np.array([0, 1, 2, 3, 4, 5, 6, 7, 8, 9])\n",
        "print('1D Numpy array:')\n",
        "print(arr,'\\n')\n",
        "arr_2d = np.reshape(arr, (2, 5))\n",
        "print('After 2D conversion Numpy array:')\n",
        "print(arr_2d)\n"
      ],
      "execution_count": 44,
      "outputs": [
        {
          "output_type": "stream",
          "text": [
            "1D Numpy array:\n",
            "[0 1 2 3 4 5 6 7 8 9] \n",
            "\n",
            "After 2D conversion Numpy array:\n",
            "[[0 1 2 3 4]\n",
            " [5 6 7 8 9]]\n"
          ],
          "name": "stdout"
        }
      ]
    },
    {
      "cell_type": "code",
      "metadata": {
        "id": "IVG-c1wfVm4g",
        "outputId": "85a740d5-d3f8-4b43-ad9e-83c5fb6eeebb",
        "colab": {
          "base_uri": "https://localhost:8080/"
        }
      },
      "source": [
        "# question 5\n",
        "arr1 = np.array([[1,2,3,4],[5,6,7,8]])\n",
        "arr2 = np.array([[8,7,6,5],[4,3,2,1]])\n",
        "\n",
        "print(np.hstack(arr1),\"\\n\")\n",
        "\n",
        "print(np.vstack(arr1))\n"
      ],
      "execution_count": 43,
      "outputs": [
        {
          "output_type": "stream",
          "text": [
            "[1 2 3 4 5 6 7 8] \n",
            "\n",
            "[[1 2 3 4]\n",
            " [5 6 7 8]]\n"
          ],
          "name": "stdout"
        }
      ]
    },
    {
      "cell_type": "code",
      "metadata": {
        "id": "SqjxB35zWPy2",
        "outputId": "c3968cbd-2226-4920-b94b-73809ba32f11",
        "colab": {
          "base_uri": "https://localhost:8080/"
        }
      },
      "source": [
        "# question 6\n",
        "arr = np.array([1, 1, 2, 3, 4, 4, 1])\n",
        "#print(arr)\n",
        "(unique, counts) = np.unique(arr, return_counts=True)\n",
        "frequencies = np.asarray((unique, counts)).T\n",
        "print(frequencies)\n"
      ],
      "execution_count": 36,
      "outputs": [
        {
          "output_type": "stream",
          "text": [
            "[[1 3]\n",
            " [2 1]\n",
            " [3 1]\n",
            " [4 2]]\n"
          ],
          "name": "stdout"
        }
      ]
    },
    {
      "cell_type": "code",
      "metadata": {
        "id": "MUjr9LseWq2z"
      },
      "source": [
        ""
      ],
      "execution_count": null,
      "outputs": []
    }
  ]
}