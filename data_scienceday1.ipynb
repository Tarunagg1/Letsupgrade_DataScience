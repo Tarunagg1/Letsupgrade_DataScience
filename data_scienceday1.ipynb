{
  "nbformat": 4,
  "nbformat_minor": 0,
  "metadata": {
    "colab": {
      "name": "data scienceday1.ipynb",
      "provenance": [],
      "collapsed_sections": [],
      "authorship_tag": "ABX9TyOw7hWaH3/Q1tP1Z8uCDNR6",
      "include_colab_link": true
    },
    "kernelspec": {
      "name": "python3",
      "display_name": "Python 3"
    }
  },
  "cells": [
    {
      "cell_type": "markdown",
      "metadata": {
        "id": "view-in-github",
        "colab_type": "text"
      },
      "source": [
        "<a href=\"https://colab.research.google.com/github/Tarunagg1/Letsupgrade_DataScience/blob/main/data_scienceday1.ipynb\" target=\"_parent\"><img src=\"https://colab.research.google.com/assets/colab-badge.svg\" alt=\"Open In Colab\"/></a>"
      ]
    },
    {
      "cell_type": "code",
      "metadata": {
        "id": "KY_PLqQI3Z6o",
        "outputId": "6e4d9947-5d09-4320-bfb4-b8ff9de978f4",
        "colab": {
          "base_uri": "https://localhost:8080/"
        }
      },
      "source": [
        "# question 1\n",
        "print(\"B) RAINBOW\")"
      ],
      "execution_count": null,
      "outputs": [
        {
          "output_type": "stream",
          "text": [
            "B) RAINBOW\n"
          ],
          "name": "stdout"
        }
      ]
    },
    {
      "cell_type": "code",
      "metadata": {
        "id": "18VA_DC103Wt",
        "outputId": "d9c24e0b-5e23-4383-dbd8-c3a8812ba14a",
        "colab": {
          "base_uri": "https://localhost:8080/"
        }
      },
      "source": [
        "# question 2\n",
        "def letsprint(name):\n",
        "  print(name.upper())\n",
        "\n",
        "letsprint(\"lets upgrade\")"
      ],
      "execution_count": null,
      "outputs": [
        {
          "output_type": "stream",
          "text": [
            "LETS UPGRADE\n"
          ],
          "name": "stdout"
        }
      ]
    },
    {
      "cell_type": "code",
      "metadata": {
        "id": "XvNfH6eg1VyS",
        "outputId": "30a3fef2-1132-404f-efcb-ad946606a31c",
        "colab": {
          "base_uri": "https://localhost:8080/"
        }
      },
      "source": [
        "# question 3\n",
        "costp = int(input(\"enter the cost price: \"))\n",
        "sellp = int(input(\"enter the selling price: \"))\n",
        "if(sellp < costp):\n",
        "  print(\"loss\")\n",
        "elif(sellp > costp):\n",
        "  print(\"Profit\")\n",
        "else:\n",
        "  print(\"Neither\")    "
      ],
      "execution_count": null,
      "outputs": [
        {
          "output_type": "stream",
          "text": [
            "enter the cost price: 100\n",
            "enter the selling price: 200\n",
            "Profit\n"
          ],
          "name": "stdout"
        }
      ]
    },
    {
      "cell_type": "code",
      "metadata": {
        "id": "42Z10ApR2RcC",
        "outputId": "8cda2f8b-f15b-4ba0-b2b1-6de718f44b88",
        "colab": {
          "base_uri": "https://localhost:8080/"
        }
      },
      "source": [
        "# question 4\n",
        "indianrupe = int(input(\"enter the indian rupees: \"))\n",
        "euro = indianrupe/80\n",
        "print(\"Indian price in Euro is: \",euro)"
      ],
      "execution_count": null,
      "outputs": [
        {
          "output_type": "stream",
          "text": [
            "enter the indian rupees: 200\n",
            "Indian price in Euro is:  2.5\n"
          ],
          "name": "stdout"
        }
      ]
    }
  ]
}